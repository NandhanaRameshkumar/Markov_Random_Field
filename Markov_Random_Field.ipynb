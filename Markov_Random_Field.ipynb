{
  "cells": [
    {
      "cell_type": "markdown",
      "metadata": {
        "id": "view-in-github",
        "colab_type": "text"
      },
      "source": [
        "<a href=\"https://colab.research.google.com/github/NandhanaRameshkumar/Markov_Random_Field/blob/main/Markov_Random_Field.ipynb\" target=\"_parent\"><img src=\"https://colab.research.google.com/assets/colab-badge.svg\" alt=\"Open In Colab\"/></a>"
      ]
    },
    {
      "cell_type": "code",
      "execution_count": null,
      "id": "f160dd8c",
      "metadata": {
        "scrolled": true,
        "id": "f160dd8c",
        "outputId": "33bcb730-9743-4b9f-f3a0-21c5385f6499"
      },
      "outputs": [
        {
          "name": "stderr",
          "output_type": "stream",
          "text": [
            "WARNING:pgmpy:MarkovModel has been renamed to MarkovNetwork. Please use MarkovNetwork class, MarkovModel will be removed in future.\n",
            "WARNING:pgmpy:MarkovModel has been renamed to MarkovNetwork. Please use MarkovNetwork class, MarkovModel will be removed in future.\n",
            "WARNING:pgmpy:MarkovModel has been renamed to MarkovNetwork. Please use MarkovNetwork class, MarkovModel will be removed in future.\n",
            "WARNING:pgmpy:MarkovModel has been renamed to MarkovNetwork. Please use MarkovNetwork class, MarkovModel will be removed in future.\n"
          ]
        },
        {
          "name": "stdout",
          "output_type": "stream",
          "text": [
            "Most probable state assignment: {'A': 0, 'B': 1, 'C': 1, 'D': 0}\n"
          ]
        }
      ],
      "source": [
        "from pgmpy.models import MarkovModel\n",
        "from pgmpy.factors.discrete import DiscreteFactor\n",
        "from pgmpy.inference import BeliefPropagation\n",
        "\n",
        "# Define the Markov Random Field model\n",
        "model = MarkovModel()\n",
        "\n",
        "# Define the nodes\n",
        "model.add_nodes_from(['A', 'B', 'C', 'D'])\n",
        "\n",
        "# Define the edges (undirected)\n",
        "model.add_edges_from([('A', 'B'), ('B', 'C'), ('C', 'D'), ('D', 'A')])\n",
        "\n",
        "# Define the factors\n",
        "factor_ab = DiscreteFactor(['A', 'B'], cardinality=[2, 2], values=[30, 5, 1, 10])\n",
        "factor_bc = DiscreteFactor(['B', 'C'], cardinality=[2, 2], values=[100, 1, 1, 100])\n",
        "factor_cd = DiscreteFactor(['C', 'D'], cardinality=[2, 2], values=[1, 100, 100, 1])\n",
        "factor_da = DiscreteFactor(['D', 'A'], cardinality=[2, 2], values=[100, 1, 1, 100])\n",
        "\n",
        "# Add factors to the model\n",
        "model.add_factors(factor_ab, factor_bc, factor_cd, factor_da)\n",
        "\n",
        "# Perform inference using Belief Propagation\n",
        "bp = BeliefPropagation(model)\n",
        "# You can provide evidence here if needed using bp.map_query(variables=['A', 'B'], evidence={'C': 0})\n",
        "result = bp.map_query()\n",
        "\n",
        "print(\"Most probable state assignment:\", result)\n"
      ]
    },
    {
      "cell_type": "code",
      "execution_count": null,
      "id": "a299cb80",
      "metadata": {
        "id": "a299cb80",
        "outputId": "7df5f942-08e6-41a0-9851-f10134be85a9"
      },
      "outputs": [
        {
          "name": "stderr",
          "output_type": "stream",
          "text": [
            "WARNING:pgmpy:MarkovModel has been renamed to MarkovNetwork. Please use MarkovNetwork class, MarkovModel will be removed in future.\n"
          ]
        },
        {
          "data": {
            "image/png": "[encoded data removed]",
            "text/plain": [
              "<Figure size 432x288 with 1 Axes>"
            ]
          },
          "metadata": {},
          "output_type": "display_data"
        }
      ],
      "source": [
        "import networkx as nx\n",
        "import matplotlib.pyplot as plt\n",
        "from pgmpy.models import MarkovModel\n",
        "\n",
        "# Define the Markov Random Field model\n",
        "model = MarkovModel()\n",
        "\n",
        "# Define the nodes\n",
        "model.add_nodes_from(['A', 'B', 'C', 'D'])\n",
        "\n",
        "# Define the edges (undirected)\n",
        "model.add_edges_from([('A', 'B'), ('B', 'C'), ('C', 'D'), ('D', 'A')])\n",
        "\n",
        "# Create a directed graph from the model\n",
        "graph = nx.Graph(model.edges())\n",
        "\n",
        "# Draw the graph\n",
        "pos = nx.spring_layout(graph)  # positions for all nodes\n",
        "nx.draw(graph, pos, with_labels=True, node_color='skyblue', node_size=1500, font_size=12, font_weight='bold', arrows=False)\n",
        "nx.draw_networkx_edge_labels(graph, pos, edge_labels={(u, v): f\"{u}-{v}\" for u, v in model.edges()}, font_color='red')\n",
        "\n",
        "plt.title(\"Markov Random Field Model\")\n",
        "plt.show()\n"
      ]
    }
  ],
  "metadata": {
    "kernelspec": {
      "display_name": "Python 3 (ipykernel)",
      "language": "python",
      "name": "python3"
    },
    "language_info": {
      "codemirror_mode": {
        "name": "ipython",
        "version": 3
      },
      "file_extension": ".py",
      "mimetype": "text/x-python",
      "name": "python",
      "nbconvert_exporter": "python",
      "pygments_lexer": "ipython3",
      "version": "3.9.12"
    },
    "colab": {
      "provenance": [],
      "include_colab_link": true
    }
  },
  "nbformat": 4,
  "nbformat_minor": 5
}